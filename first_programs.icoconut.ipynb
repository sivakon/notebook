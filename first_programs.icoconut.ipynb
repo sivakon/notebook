{
 "cells": [
  {
   "cell_type": "code",
   "execution_count": 2,
   "metadata": {
    "collapsed": true
   },
   "outputs": [],
   "source": [
    "def factorial(n):\n",
    "    \"\"\"Compute n! where n is a non-negative integer\"\"\"\n",
    "    if n `isinstance` int and n >= 0:\n",
    "        acc = 1\n",
    "        for x in range(1, n+1):\n",
    "            acc *= x\n",
    "        return acc\n",
    "    else:\n",
    "        raise TypeError(\"the argument must be greater than or equal to 0\")\n",
    "    "
   ]
  },
  {
   "cell_type": "code",
   "execution_count": 5,
   "metadata": {},
   "outputs": [
    {
     "name": "stdout",
     "output_type": "stream",
     "text": [
      "1\n"
     ]
    }
   ],
   "source": [
    "0 |> factorial |> print"
   ]
  },
  {
   "cell_type": "code",
   "execution_count": 8,
   "metadata": {
    "collapsed": true
   },
   "outputs": [],
   "source": [
    "def factorial2(n):\n",
    "    \"\"\"Compute n! using recursion\"\"\"\n",
    "    case n:\n",
    "        match 0:\n",
    "            return 1\n",
    "        match x is int:\n",
    "            if x > 0:\n",
    "                return x * factorial2(x - 1)\n",
    "    else:\n",
    "        raise TypeError(\"wrong type\")\n",
    "        \n",
    "\n",
    "            "
   ]
  },
  {
   "cell_type": "code",
   "execution_count": 9,
   "metadata": {},
   "outputs": [
    {
     "name": "stdout",
     "output_type": "stream",
     "text": [
      "1\n"
     ]
    }
   ],
   "source": [
    "1 |> factorial2 |> print"
   ]
  },
  {
   "cell_type": "code",
   "execution_count": 11,
   "metadata": {},
   "outputs": [
    {
     "ename": "TypeError",
     "evalue": "wrong type",
     "output_type": "error",
     "traceback": [
      "\u001b[0;31m---------------------------------------------------------------------------\u001b[0m",
      "\u001b[0;31mTypeError\u001b[0m                                 Traceback (most recent call last)",
      "\u001b[0;32m<ipython-input-11-c4949f1c4313>\u001b[0m in \u001b[0;36m<module>\u001b[0;34m()\u001b[0m\n\u001b[1;32m      5\u001b[0m \u001b[0;32mfrom\u001b[0m \u001b[0mcoconut\u001b[0m\u001b[0;34m.\u001b[0m\u001b[0m__coconut__\u001b[0m \u001b[0;32mimport\u001b[0m \u001b[0m_coconut\u001b[0m\u001b[0;34m,\u001b[0m \u001b[0m_coconut_NamedTuple\u001b[0m\u001b[0;34m,\u001b[0m \u001b[0m_coconut_MatchError\u001b[0m\u001b[0;34m,\u001b[0m \u001b[0m_coconut_tail_call\u001b[0m\u001b[0;34m,\u001b[0m \u001b[0m_coconut_tco\u001b[0m\u001b[0;34m,\u001b[0m \u001b[0m_coconut_igetitem\u001b[0m\u001b[0;34m,\u001b[0m \u001b[0m_coconut_base_compose\u001b[0m\u001b[0;34m,\u001b[0m \u001b[0m_coconut_forward_compose\u001b[0m\u001b[0;34m,\u001b[0m \u001b[0m_coconut_back_compose\u001b[0m\u001b[0;34m,\u001b[0m \u001b[0m_coconut_forward_star_compose\u001b[0m\u001b[0;34m,\u001b[0m \u001b[0m_coconut_back_star_compose\u001b[0m\u001b[0;34m,\u001b[0m \u001b[0m_coconut_pipe\u001b[0m\u001b[0;34m,\u001b[0m \u001b[0m_coconut_star_pipe\u001b[0m\u001b[0;34m,\u001b[0m \u001b[0m_coconut_back_pipe\u001b[0m\u001b[0;34m,\u001b[0m \u001b[0m_coconut_back_star_pipe\u001b[0m\u001b[0;34m,\u001b[0m \u001b[0m_coconut_bool_and\u001b[0m\u001b[0;34m,\u001b[0m \u001b[0m_coconut_bool_or\u001b[0m\u001b[0;34m,\u001b[0m \u001b[0m_coconut_none_coalesce\u001b[0m\u001b[0;34m,\u001b[0m \u001b[0m_coconut_minus\u001b[0m\u001b[0;34m,\u001b[0m \u001b[0m_coconut_map\u001b[0m\u001b[0;34m,\u001b[0m \u001b[0m_coconut_partial\u001b[0m\u001b[0;34m\u001b[0m\u001b[0m\n\u001b[1;32m      6\u001b[0m \u001b[0;32mfrom\u001b[0m \u001b[0mcoconut\u001b[0m\u001b[0;34m.\u001b[0m\u001b[0m__coconut__\u001b[0m \u001b[0;32mimport\u001b[0m \u001b[0;34m*\u001b[0m\u001b[0;34m\u001b[0m\u001b[0m\n\u001b[0;32m----> 7\u001b[0;31m \u001b[0;34m(\u001b[0m\u001b[0mprint\u001b[0m\u001b[0;34m)\u001b[0m\u001b[0;34m(\u001b[0m\u001b[0;34m(\u001b[0m\u001b[0mfactorial2\u001b[0m\u001b[0;34m)\u001b[0m\u001b[0;34m(\u001b[0m\u001b[0;36m0.5\u001b[0m\u001b[0;34m)\u001b[0m\u001b[0;34m)\u001b[0m  \u001b[0;31m# line 1: 0.5 |> factorial2 |> print\u001b[0m\u001b[0;34m\u001b[0m\u001b[0m\n\u001b[0m",
      "\u001b[0;32m<ipython-input-8-8bbfd0545917>\u001b[0m in \u001b[0;36mfactorial2\u001b[0;34m(n)\u001b[0m\n\u001b[1;32m     21\u001b[0m                 \u001b[0;32mreturn\u001b[0m \u001b[0mx\u001b[0m \u001b[0;34m*\u001b[0m \u001b[0mfactorial2\u001b[0m\u001b[0;34m(\u001b[0m\u001b[0mx\u001b[0m \u001b[0;34m-\u001b[0m \u001b[0;36m1\u001b[0m\u001b[0;34m)\u001b[0m  \u001b[0;31m# line 8:                 return x * factorial2(x - 1)\u001b[0m\u001b[0;34m\u001b[0m\u001b[0m\n\u001b[1;32m     22\u001b[0m     \u001b[0;32mif\u001b[0m \u001b[0;32mnot\u001b[0m \u001b[0m_coconut_match_check\u001b[0m\u001b[0;34m:\u001b[0m  \u001b[0;31m# line 9:     else:\u001b[0m\u001b[0;34m\u001b[0m\u001b[0m\n\u001b[0;32m---> 23\u001b[0;31m         \u001b[0;32mraise\u001b[0m \u001b[0mTypeError\u001b[0m\u001b[0;34m(\u001b[0m\u001b[0;34m\"wrong type\"\u001b[0m\u001b[0;34m)\u001b[0m  \u001b[0;31m# line 10:         raise TypeError(\"wrong type\")\u001b[0m\u001b[0;34m\u001b[0m\u001b[0m\n\u001b[0m",
      "\u001b[0;31mTypeError\u001b[0m: wrong type"
     ]
    }
   ],
   "source": [
    "0.5 |> factorial2 |> print"
   ]
  },
  {
   "cell_type": "code",
   "execution_count": 14,
   "metadata": {
    "collapsed": true
   },
   "outputs": [],
   "source": [
    "# great pattern matching tutorial\n",
    "def factorial(n):\n",
    "    \"\"\"Compute n!\"\"\"\n",
    "    case n:\n",
    "        match 0:\n",
    "            return 1\n",
    "        match _ is int if n > 0: # wild card pattern\n",
    "            return n * factorial(n-1)\n",
    "    else:\n",
    "        raise TypeError(\"this is a type error statement\")"
   ]
  },
  {
   "cell_type": "code",
   "execution_count": 15,
   "metadata": {},
   "outputs": [
    {
     "name": "stdout",
     "output_type": "stream",
     "text": [
      "479001600\n"
     ]
    }
   ],
   "source": [
    "12 |> factorial |> print"
   ]
  },
  {
   "cell_type": "code",
   "execution_count": 23,
   "metadata": {
    "collapsed": true
   },
   "outputs": [],
   "source": [
    "# Using tail call optimization\n",
    "def factorial(n, acc = 1):\n",
    "    \"\"\"Compute n!\"\"\"\n",
    "    acc |> print\n",
    "    case n:\n",
    "        match 0:\n",
    "            return acc\n",
    "        match _ is int if n > 0:\n",
    "            return factorial(n - 1, acc*n)\n",
    "    else:\n",
    "        raise TypeError(\"the argument to factorial must be an integer >= 0\")\n",
    "        "
   ]
  },
  {
   "cell_type": "code",
   "execution_count": 25,
   "metadata": {},
   "outputs": [
    {
     "name": "stdout",
     "output_type": "stream",
     "text": [
      "1\n",
      "6\n",
      "30\n",
      "120\n",
      "360\n",
      "720\n",
      "720\n",
      "720\n"
     ]
    }
   ],
   "source": [
    "6 |> factorial |> print"
   ]
  },
  {
   "cell_type": "code",
   "execution_count": 26,
   "metadata": {
    "collapsed": true
   },
   "outputs": [],
   "source": [
    "def factorial(n):\n",
    "    \"\"\"Compute n! where n is an integer\"\"\"\n",
    "    case n:\n",
    "        match 0:\n",
    "            return 1\n",
    "        match _ is int if n > 0:\n",
    "            return range(1, n+1) |> reduce$(*)\n",
    "    else:\n",
    "        raise TypeError(\"the argument to factorial should be >= 0\")\n",
    "        "
   ]
  },
  {
   "cell_type": "code",
   "execution_count": 27,
   "metadata": {},
   "outputs": [
    {
     "name": "stdout",
     "output_type": "stream",
     "text": [
      "24\n"
     ]
    }
   ],
   "source": [
    "4 |> factorial |> print"
   ]
  },
  {
   "cell_type": "raw",
   "metadata": {},
   "source": [
    "return range(1, n+1) |> reduce$(*)"
   ]
  },
  {
   "cell_type": "markdown",
   "metadata": {},
   "source": [
    "Let's break down what's happening on this line. First, the range function constructs an iterator of all the numbers that need to be multiplied together. Then, it is piped into the function reduce$(\\*), which does that multiplication. But how? What is reduce\\$(*)?\n",
    "\n",
    "\n",
    "We'll start with the base, the reduce function. reduce used to exist as a built-in in Python 2, and Coconut brings it back. reduce is a higher-order function that takes a function of two arguments as its first argument, and an iterator as its second argument, and applies that function to the given iterator by starting with the first element, and calling the function on the accumulated call so far and the next element, until the iterator is exhausted. Here's a visual representation:"
   ]
  },
  {
   "cell_type": "raw",
   "metadata": {},
   "source": [
    "reduce(f, (a, b, c, d))\n",
    "\n",
    "acc                 iter\n",
    "                    (a, b, c, d)\n",
    "a                   (b, c, d)\n",
    "f(a, b)             (c, d)\n",
    "f(f(a, b), c)       (d)\n",
    "f(f(f(a, b), c), d)\n",
    "\n",
    "return acc"
   ]
  },
  {
   "cell_type": "markdown",
   "metadata": {},
   "source": [
    "Now let's take a look at what we do to ``reduce`` to make it multiply all the numbers we feed into it together. The Coconut code that we saw for that was ``reduce$(*)``. There are two different Coconut constructs being used here: the operator function for multiplication in the form of ``(*)``, and partial application in the form of ``$``.\n",
    "\n",
    "First, the operator function. In Coconut, a function form of any operator can be retrieved by surrounding that operator in parentheses. In this case, ``(*)`` is roughly equivalent to ``lambda x, y: x*y``, but much cleaner and neater. In Coconut's lambda syntax, ``(*)`` is also equivalent to ``(x, y) -> x*y``, which we will use from now on for all lambdas, even though both are legal Coconut, because Python's lambda statement is too ugly and bulky to use regularly.\n",
    "Note: If Coconut's ``--strict`` mode is enabled, which will force your code to obey certain cleanliness standards, it will raise an error whenever Python lambda statements are used.\n",
    "Second, the partial application. Think of partial application as lazy function calling, and ``$`` as the lazy-ify operator, where lazy just means \"don't evaluate this until you need to.\" In Coconut, if a function call is prefixed by a ``$``, like in this example, instead of actually performing the function call, a new function is returned with the given arguments already provided to it, so that when it is then called, it will be called with both the partially-applied arguments and the new arguments, in that order. In this case, ``reduce$(*)`` is roughly equivalent to ``(*args, **kwargs) -> reduce((*), *args, **kwargs)``.\n",
    "Putting it all together, we can see how the single line of code"
   ]
  },
  {
   "cell_type": "markdown",
   "metadata": {},
   "source": [
    "This link is very useful in understanding what ``(*args, **kwargs)`` is\n",
    "\n",
    "https://stackoverflow.com/questions/36901/what-does-double-star-asterisk-and-star-asterisk-do-for-parameters"
   ]
  },
  {
   "cell_type": "markdown",
   "metadata": {},
   "source": [
    "### Addpattern in Coconut"
   ]
  },
  {
   "cell_type": "code",
   "execution_count": 29,
   "metadata": {
    "collapsed": true
   },
   "outputs": [],
   "source": [
    "def factorial(0) = 1\n",
    "\n",
    "@addpattern(factorial)\n",
    "def factorial(n is int if n > 0) =\n",
    "    \"\"\"Compute n! where n is an integer >= 0.\"\"\"\n",
    "    range(1, n+1) |> reduce$(*)"
   ]
  },
  {
   "cell_type": "code",
   "execution_count": 30,
   "metadata": {},
   "outputs": [
    {
     "name": "stdout",
     "output_type": "stream",
     "text": [
      "6\n"
     ]
    }
   ],
   "source": [
    "3 |> factorial |> print"
   ]
  },
  {
   "cell_type": "code",
   "execution_count": 20,
   "metadata": {},
   "outputs": [
    {
     "name": "stdout",
     "output_type": "stream",
     "text": [
      "C:\\Users\\sivaram.konanki\\Box Sync\\notebook\n"
     ]
    }
   ],
   "source": [
    "import pandas as pd\n",
    "import os\n",
    "os.getcwd() |> print"
   ]
  },
  {
   "cell_type": "code",
   "execution_count": 31,
   "metadata": {},
   "outputs": [],
   "source": [
    "## read SQL ASTER COUPON data\n",
    "import pandas as pd\n",
    "coupons = pd.read_csv('C:/Users/sivaram.konanki/Box Sync/Databases/TRVDEX-4814.csv', \n",
    "                      header=None, \n",
    "                      nrows=100,\n",
    "                      names = ['easy_id','hotel_id_1','hotel_name_1',\n",
    "                               'hotel_id_2','hotel_name_2',\n",
    "                               'hotel_id_3','hotel_name_3',\n",
    "                               'hotel_id_4','hotel_name_4'\n",
    "                              ]\n",
    "                      )\n"
   ]
  },
  {
   "cell_type": "code",
   "execution_count": 32,
   "metadata": {},
   "outputs": [
    {
     "data": {
      "text/html": [
       "<div>\n",
       "<style>\n",
       "    .dataframe thead tr:only-child th {\n",
       "        text-align: right;\n",
       "    }\n",
       "\n",
       "    .dataframe thead th {\n",
       "        text-align: left;\n",
       "    }\n",
       "\n",
       "    .dataframe tbody tr th {\n",
       "        vertical-align: top;\n",
       "    }\n",
       "</style>\n",
       "<table border=\"1\" class=\"dataframe\">\n",
       "  <thead>\n",
       "    <tr style=\"text-align: right;\">\n",
       "      <th></th>\n",
       "      <th>easy_id</th>\n",
       "      <th>hotel_id_1</th>\n",
       "      <th>hotel_name_1</th>\n",
       "      <th>hotel_id_2</th>\n",
       "      <th>hotel_name_2</th>\n",
       "      <th>hotel_id_3</th>\n",
       "      <th>hotel_name_3</th>\n",
       "      <th>hotel_id_4</th>\n",
       "      <th>hotel_name_4</th>\n",
       "    </tr>\n",
       "  </thead>\n",
       "  <tbody>\n",
       "    <tr>\n",
       "      <th>0</th>\n",
       "      <td>100001521</td>\n",
       "      <td>8070</td>\n",
       "      <td>スパリゾートハワイアンズ　ホテルハワイアンズ</td>\n",
       "      <td>4665.0</td>\n",
       "      <td>大江戸温泉物語　松島温泉　ホテル壮観</td>\n",
       "      <td>NaN</td>\n",
       "      <td>NaN</td>\n",
       "      <td>NaN</td>\n",
       "      <td>NaN</td>\n",
       "    </tr>\n",
       "    <tr>\n",
       "      <th>1</th>\n",
       "      <td>100024551</td>\n",
       "      <td>147724</td>\n",
       "      <td>ＣＡＲＯ　ＦＯＲＥＳＴＡ　三浦海岸　ＡＲＥＮＡ</td>\n",
       "      <td>135951.0</td>\n",
       "      <td>ＣＡＲＯ　ＦＯＲＥＳＴＡ　館山　ＤＩＡＮＡ</td>\n",
       "      <td>70994.0</td>\n",
       "      <td>目の前はドッグラン　Ｆｒｏｎｔ　ｙａｒｄ（フロントヤード）</td>\n",
       "      <td>67475.0</td>\n",
       "      <td>カーロ　フォレスタ</td>\n",
       "    </tr>\n",
       "    <tr>\n",
       "      <th>2</th>\n",
       "      <td>100027121</td>\n",
       "      <td>31811</td>\n",
       "      <td>花月荘</td>\n",
       "      <td>NaN</td>\n",
       "      <td>NaN</td>\n",
       "      <td>NaN</td>\n",
       "      <td>NaN</td>\n",
       "      <td>NaN</td>\n",
       "      <td>NaN</td>\n",
       "    </tr>\n",
       "  </tbody>\n",
       "</table>\n",
       "</div>"
      ],
      "text/plain": [
       "     easy_id  hotel_id_1             hotel_name_1  hotel_id_2  \\\n",
       "0  100001521        8070   スパリゾートハワイアンズ　ホテルハワイアンズ      4665.0   \n",
       "1  100024551      147724  ＣＡＲＯ　ＦＯＲＥＳＴＡ　三浦海岸　ＡＲＥＮＡ    135951.0   \n",
       "2  100027121       31811                      花月荘         NaN   \n",
       "\n",
       "            hotel_name_2  hotel_id_3                   hotel_name_3  \\\n",
       "0     大江戸温泉物語　松島温泉　ホテル壮観         NaN                            NaN   \n",
       "1  ＣＡＲＯ　ＦＯＲＥＳＴＡ　館山　ＤＩＡＮＡ     70994.0  目の前はドッグラン　Ｆｒｏｎｔ　ｙａｒｄ（フロントヤード）   \n",
       "2                    NaN         NaN                            NaN   \n",
       "\n",
       "   hotel_id_4 hotel_name_4  \n",
       "0         NaN          NaN  \n",
       "1     67475.0    カーロ　フォレスタ  \n",
       "2         NaN          NaN  "
      ]
     },
     "execution_count": 32,
     "metadata": {},
     "output_type": "execute_result"
    }
   ],
   "source": [
    "coupons |> .[:3]"
   ]
  },
  {
   "cell_type": "code",
   "execution_count": 30,
   "metadata": {},
   "outputs": [
    {
     "data": {
      "text/plain": [
       "Int64Index([0, 1, 2, 3, 4, 5, 6, 7, 8], dtype='int64')"
      ]
     },
     "execution_count": 30,
     "metadata": {},
     "output_type": "execute_result"
    }
   ],
   "source": [
    "coupons.columns"
   ]
  },
  {
   "cell_type": "code",
   "execution_count": 34,
   "metadata": {
    "collapsed": true
   },
   "outputs": [],
   "source": [
    "# Set ipython's max row display\n",
    "pd.set_option('display.max_row', 100)\n",
    "\n",
    "# Set iPython's max column width to 50\n",
    "pd.set_option('display.max_columns', 50)"
   ]
  },
  {
   "cell_type": "code",
   "execution_count": 48,
   "metadata": {},
   "outputs": [
    {
     "name": "stdout",
     "output_type": "stream",
     "text": [
      "198\n"
     ]
    }
   ],
   "source": [
    "map(x -> x*2, range(10**2))$[-1] |> print\n"
   ]
  },
  {
   "cell_type": "code",
   "execution_count": 36,
   "metadata": {},
   "outputs": [
    {
     "data": {
      "text/plain": [
       "array(['スパリゾートハワイアンズ\\u3000ホテルハワイアンズ',\n",
       "       'ＣＡＲＯ\\u3000ＦＯＲＥＳＴＡ\\u3000三浦海岸\\u3000ＡＲＥＮＡ', '花月荘',\n",
       "       'アパホテル＆リゾート＜東京ベイ幕張＞', '変なホテル舞浜\\u3000東京ベイ',\n",
       "       'セレスティンホテル（2017年11月28日よりホテル\\u3000ザ\\u3000セレスティン東京芝）', 'ザ・ホテルノース大阪',\n",
       "       'あかん遊久の里鶴雅', 'スーパーホテル東京・赤羽', '神戸ポートタワーホテル\\u3000なごみの湯宿',\n",
       "       'ホテルＪＡＬシティ仙台', 'アパヴィラホテル＜淀屋橋＞（アパホテルズ＆リゾーツ）', '羽田イン',\n",
       "       '復興御宿\\u3000富双江葉大馬\\u3000鬼怒川秘極の湯\\u3000風', 'ホテルスカイパークセントラル明洞',\n",
       "       '西鉄イン黒崎', '万座温泉\\u3000万座亭', '品川プリンスホテル', 'Ｒ＆Ｂホテル大塚駅北口',\n",
       "       '京急ＥＸイン羽田（２０１７年１０月２５日新規オープン）', 'あわら温泉\\u3000政竜閣', 'ホテルヴェルデ',\n",
       "       '中通温泉\\u3000こまちの湯\\u3000ドーミーイン秋田', 'ホテルフォーリッジ仙台',\n",
       "       '湯の川温泉\\u3000平成館\\u3000しおさい亭', 'ドーミーインソウル江南', 'ホテルリブマックス大手前',\n",
       "       'ホテル\\u3000トランス\\u3000オーシャン', 'サクラ・フルール\\u3000青山',\n",
       "       'ザ・ホテル長崎BWプレミアコレクション（旧\\u3000ベストウェスタンプレミアホテル長崎）', 'シティホテルミチ',\n",
       "       '富士山温泉\\u3000ホテル鐘山苑', '川湯温泉\\u3000山水館\\u3000川湯まつや', 'リッチモンドホテル成田',\n",
       "       'プレミアホテル―ＣＡＢＩＮ―帯広（旧\\u3000天然温泉\\u3000ホテルパコ帯広）', 'ホテルスカイパークキングスタウン東大門',\n",
       "       '熱海温泉\\u3000ＨＯＴＥＬ\\u3000ＭＩＣＵＲＡＳ（ホテルミクラス）', '日光ステーションホテルクラシック',\n",
       "       'ビジネスホテル中央＜大阪府＞', 'ホテルユニバーサルポート',\n",
       "       'りばてぃリゾ・音\\u3000AMAGISO（旧：大滝温泉\\u3000天城荘）', 'ホテル利尻＜利尻島＞', 'オーベルジュ道後',\n",
       "       'ホテルサンルート千葉', 'アパホテル＜なんば駅東＞', 'ホテル日航奈良', 'ライブラリーホテル仙台駅前',\n",
       "       '中札内農村休暇村フェーリエンドルフ', '博多中洲ワシントンホテルプラザ', 'ヒルトン沖縄北谷リゾート',\n",
       "       'ホテルアンビエント伊豆高原', 'レム日比谷', '東横イン大阪なんば日本橋', 'ホテルココ・グラン高崎',\n",
       "       'ホテルクエスト清水', '水戸シルバーイン', '宮古島東急ホテル＆リゾーツ', '塩原温泉\\u3000ホテルニュー八汐',\n",
       "       '沼津リバーサイドホテル', 'ホテル松島大観荘', '別府城島温泉\\u3000城島高原ホテル',\n",
       "       '箱根湯本温泉\\u3000雉子亭\\u3000豊栄荘', 'ホテル川島\\u3000広島駅直結',\n",
       "       'サウナ＆カプセルホテル\\u3000ダンディ', 'ヴィラフォンテーヌ東京田町', '白浜温泉\\u3000ホテル川久',\n",
       "       '東京ディズニーランドホテル', 'リッチモンドホテルプレミア仙台駅前', '東横イン青森駅正面口', 'ヴィアイン秋葉原',\n",
       "       'アルファホテル徳島', '星野リゾート\\u3000奥入瀬渓流ホテル',\n",
       "       'ＦＩＲＳＴ\\u3000ＣＡＢＩＮ（ファーストキャビン）愛宕山', 'ビジネスホテル\\u3000カインドホープＡＩ愛',\n",
       "       '潮騒の宿\\u3000晴海', '須川温泉\\u3000栗駒山荘', 'ダイワロイネットホテル岡山駅前',\n",
       "       '相鉄フレッサイン\\u3000京都四条烏丸（２０１７年４月１日オープン）', 'サウナ＆カプセルホテル\\u3000グリーンランド小倉',\n",
       "       'びわ湖大津プリンスホテル', 'イーホテル東新宿', 'ハイアット\\u3000リージェンシー\\u3000大阪',\n",
       "       '天然いやだに温泉大師の湯ふれあいパークみの', 'ｓｅｎｓｅ\\u3000ｏｆ\\u3000ｗｏｎｄｅｒ',\n",
       "       '広島駅前ユニバーサルホテル新幹線口右', '久美の浜温泉郷\\u3000久美の浜\\u3000みなと悠悠',\n",
       "       '小田急ホテルセンチュリー相模大野', '新大阪江坂東急ＲＥＩホテル', 'パークサイドホテル＜広島\\u3000平和公園前＞',\n",
       "       'ホテル\\u3000ライブアーテックス', '前鬼怒川\\u3000かご岩温泉旅館', 'オカサンホテル', 'アパホテル＜名古屋栄＞',\n",
       "       '晴海グランドホテル', '由布院温泉\\u3000ゆふいん湯めぐりホテル山光園', 'グランパークホテルエクセル福島恵比寿',\n",
       "       '箱根小涌園\\u3000美山楓林'], dtype=object)"
      ]
     },
     "execution_count": 36,
     "metadata": {},
     "output_type": "execute_result"
    }
   ],
   "source": [
    "#coupons.hotel_name_1.unique()\n",
    "coupons |> .hotel_name_1 |> .unique()"
   ]
  },
  {
   "cell_type": "markdown",
   "metadata": {},
   "source": [
    "### Iterator slicing"
   ]
  },
  {
   "cell_type": "code",
   "execution_count": 50,
   "metadata": {},
   "outputs": [
    {
     "name": "stdout",
     "output_type": "stream",
     "text": [
      "198\n"
     ]
    }
   ],
   "source": [
    "map(x -> x*2, range(10**2))$[-1] |> print"
   ]
  },
  {
   "cell_type": "code",
   "execution_count": 47,
   "metadata": {},
   "outputs": [
    {
     "data": {
      "text/plain": [
       "100"
      ]
     },
     "execution_count": 47,
     "metadata": {},
     "output_type": "execute_result"
    }
   ],
   "source": [
    "10**2"
   ]
  },
  {
   "cell_type": "markdown",
   "metadata": {},
   "source": [
    "#### ?? is like an operator.\n",
    "\n",
    "#### Evaluates left side of ?? if it is not None, otherwise it is right"
   ]
  },
  {
   "cell_type": "code",
   "execution_count": 54,
   "metadata": {},
   "outputs": [
    {
     "data": {
      "text/plain": [
       "1"
      ]
     },
     "execution_count": 54,
     "metadata": {},
     "output_type": "execute_result"
    }
   ],
   "source": [
    "1 ?? print('asdfrrr')"
   ]
  },
  {
   "cell_type": "code",
   "execution_count": 55,
   "metadata": {},
   "outputs": [
    {
     "name": "stdout",
     "output_type": "stream",
     "text": [
      "asdfasfd\n"
     ]
    }
   ],
   "source": [
    "None ?? 'asdfasfd' |> print"
   ]
  },
  {
   "cell_type": "code",
   "execution_count": 56,
   "metadata": {},
   "outputs": [
    {
     "data": {
      "text/plain": [
       "123123"
      ]
     },
     "execution_count": 56,
     "metadata": {},
     "output_type": "execute_result"
    }
   ],
   "source": [
    "123123 ?? 224"
   ]
  },
  {
   "cell_type": "code",
   "execution_count": null,
   "metadata": {
    "collapsed": true
   },
   "outputs": [],
   "source": []
  }
 ],
 "metadata": {
  "kernelspec": {
   "display_name": "Coconut",
   "language": "coconut",
   "name": "coconut"
  },
  "language_info": {
   "codemirror_mode": {
    "name": "python",
    "version": 3.6
   },
   "file_extension": ".coco",
   "mimetype": "text/x-python3",
   "name": "coconut",
   "pygments_lexer": "coconut"
  }
 },
 "nbformat": 4,
 "nbformat_minor": 2
}
