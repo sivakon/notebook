{
 "cells": [
  {
   "cell_type": "code",
   "execution_count": 2,
   "metadata": {},
   "outputs": [],
   "source": [
    "def factorial(n):\n",
    "    \"\"\"Compute n! where n is a non-negative integer\"\"\"\n",
    "    if n `isinstance` int and n >= 0:\n",
    "        acc = 1\n",
    "        for x in range(1, n+1):\n",
    "            acc *= x\n",
    "        return acc\n",
    "    else:\n",
    "        raise TypeError(\"the argument must be greater than or equal to 0\")\n",
    "    "
   ]
  },
  {
   "cell_type": "code",
   "execution_count": 5,
   "metadata": {},
   "outputs": [
    {
     "name": "stdout",
     "output_type": "stream",
     "text": [
      "1\n"
     ]
    }
   ],
   "source": [
    "0 |> factorial |> print"
   ]
  },
  {
   "cell_type": "code",
   "execution_count": 8,
   "metadata": {},
   "outputs": [],
   "source": [
    "def factorial2(n):\n",
    "    \"\"\"Compute n! using recursion\"\"\"\n",
    "    case n:\n",
    "        match 0:\n",
    "            return 1\n",
    "        match x is int:\n",
    "            if x > 0:\n",
    "                return x * factorial2(x - 1)\n",
    "    else:\n",
    "        raise TypeError(\"wrong type\")\n",
    "        \n",
    "\n",
    "            "
   ]
  },
  {
   "cell_type": "code",
   "execution_count": 9,
   "metadata": {},
   "outputs": [
    {
     "name": "stdout",
     "output_type": "stream",
     "text": [
      "1\n"
     ]
    }
   ],
   "source": [
    "1 |> factorial2 |> print"
   ]
  },
  {
   "cell_type": "code",
   "execution_count": 11,
   "metadata": {},
   "outputs": [
    {
     "ename": "TypeError",
     "evalue": "wrong type",
     "output_type": "error",
     "traceback": [
      "\u001b[0;31m---------------------------------------------------------------------------\u001b[0m",
      "\u001b[0;31mTypeError\u001b[0m                                 Traceback (most recent call last)",
      "\u001b[0;32m<ipython-input-11-c4949f1c4313>\u001b[0m in \u001b[0;36m<module>\u001b[0;34m()\u001b[0m\n\u001b[1;32m      5\u001b[0m \u001b[0;32mfrom\u001b[0m \u001b[0mcoconut\u001b[0m\u001b[0;34m.\u001b[0m\u001b[0m__coconut__\u001b[0m \u001b[0;32mimport\u001b[0m \u001b[0m_coconut\u001b[0m\u001b[0;34m,\u001b[0m \u001b[0m_coconut_NamedTuple\u001b[0m\u001b[0;34m,\u001b[0m \u001b[0m_coconut_MatchError\u001b[0m\u001b[0;34m,\u001b[0m \u001b[0m_coconut_tail_call\u001b[0m\u001b[0;34m,\u001b[0m \u001b[0m_coconut_tco\u001b[0m\u001b[0;34m,\u001b[0m \u001b[0m_coconut_igetitem\u001b[0m\u001b[0;34m,\u001b[0m \u001b[0m_coconut_base_compose\u001b[0m\u001b[0;34m,\u001b[0m \u001b[0m_coconut_forward_compose\u001b[0m\u001b[0;34m,\u001b[0m \u001b[0m_coconut_back_compose\u001b[0m\u001b[0;34m,\u001b[0m \u001b[0m_coconut_forward_star_compose\u001b[0m\u001b[0;34m,\u001b[0m \u001b[0m_coconut_back_star_compose\u001b[0m\u001b[0;34m,\u001b[0m \u001b[0m_coconut_pipe\u001b[0m\u001b[0;34m,\u001b[0m \u001b[0m_coconut_star_pipe\u001b[0m\u001b[0;34m,\u001b[0m \u001b[0m_coconut_back_pipe\u001b[0m\u001b[0;34m,\u001b[0m \u001b[0m_coconut_back_star_pipe\u001b[0m\u001b[0;34m,\u001b[0m \u001b[0m_coconut_bool_and\u001b[0m\u001b[0;34m,\u001b[0m \u001b[0m_coconut_bool_or\u001b[0m\u001b[0;34m,\u001b[0m \u001b[0m_coconut_none_coalesce\u001b[0m\u001b[0;34m,\u001b[0m \u001b[0m_coconut_minus\u001b[0m\u001b[0;34m,\u001b[0m \u001b[0m_coconut_map\u001b[0m\u001b[0;34m,\u001b[0m \u001b[0m_coconut_partial\u001b[0m\u001b[0;34m\u001b[0m\u001b[0m\n\u001b[1;32m      6\u001b[0m \u001b[0;32mfrom\u001b[0m \u001b[0mcoconut\u001b[0m\u001b[0;34m.\u001b[0m\u001b[0m__coconut__\u001b[0m \u001b[0;32mimport\u001b[0m \u001b[0;34m*\u001b[0m\u001b[0;34m\u001b[0m\u001b[0m\n\u001b[0;32m----> 7\u001b[0;31m \u001b[0;34m(\u001b[0m\u001b[0mprint\u001b[0m\u001b[0;34m)\u001b[0m\u001b[0;34m(\u001b[0m\u001b[0;34m(\u001b[0m\u001b[0mfactorial2\u001b[0m\u001b[0;34m)\u001b[0m\u001b[0;34m(\u001b[0m\u001b[0;36m0.5\u001b[0m\u001b[0;34m)\u001b[0m\u001b[0;34m)\u001b[0m  \u001b[0;31m# line 1: 0.5 |> factorial2 |> print\u001b[0m\u001b[0;34m\u001b[0m\u001b[0m\n\u001b[0m",
      "\u001b[0;32m<ipython-input-8-8bbfd0545917>\u001b[0m in \u001b[0;36mfactorial2\u001b[0;34m(n)\u001b[0m\n\u001b[1;32m     21\u001b[0m                 \u001b[0;32mreturn\u001b[0m \u001b[0mx\u001b[0m \u001b[0;34m*\u001b[0m \u001b[0mfactorial2\u001b[0m\u001b[0;34m(\u001b[0m\u001b[0mx\u001b[0m \u001b[0;34m-\u001b[0m \u001b[0;36m1\u001b[0m\u001b[0;34m)\u001b[0m  \u001b[0;31m# line 8:                 return x * factorial2(x - 1)\u001b[0m\u001b[0;34m\u001b[0m\u001b[0m\n\u001b[1;32m     22\u001b[0m     \u001b[0;32mif\u001b[0m \u001b[0;32mnot\u001b[0m \u001b[0m_coconut_match_check\u001b[0m\u001b[0;34m:\u001b[0m  \u001b[0;31m# line 9:     else:\u001b[0m\u001b[0;34m\u001b[0m\u001b[0m\n\u001b[0;32m---> 23\u001b[0;31m         \u001b[0;32mraise\u001b[0m \u001b[0mTypeError\u001b[0m\u001b[0;34m(\u001b[0m\u001b[0;34m\"wrong type\"\u001b[0m\u001b[0;34m)\u001b[0m  \u001b[0;31m# line 10:         raise TypeError(\"wrong type\")\u001b[0m\u001b[0;34m\u001b[0m\u001b[0m\n\u001b[0m",
      "\u001b[0;31mTypeError\u001b[0m: wrong type"
     ]
    }
   ],
   "source": [
    "0.5 |> factorial2 |> print"
   ]
  },
  {
   "cell_type": "code",
   "execution_count": 14,
   "metadata": {},
   "outputs": [],
   "source": [
    "# great pattern matching tutorial\n",
    "def factorial(n):\n",
    "    \"\"\"Compute n!\"\"\"\n",
    "    case n:\n",
    "        match 0:\n",
    "            return 1\n",
    "        match _ is int if n > 0: # wild card pattern\n",
    "            return n * factorial(n-1)\n",
    "    else:\n",
    "        raise TypeError(\"this is a type error statement\")"
   ]
  },
  {
   "cell_type": "code",
   "execution_count": 15,
   "metadata": {},
   "outputs": [
    {
     "name": "stdout",
     "output_type": "stream",
     "text": [
      "479001600\n"
     ]
    }
   ],
   "source": [
    "12 |> factorial |> print"
   ]
  },
  {
   "cell_type": "code",
   "execution_count": 23,
   "metadata": {},
   "outputs": [],
   "source": [
    "# Using tail call optimization\n",
    "def factorial(n, acc = 1):\n",
    "    \"\"\"Compute n!\"\"\"\n",
    "    acc |> print\n",
    "    case n:\n",
    "        match 0:\n",
    "            return acc\n",
    "        match _ is int if n > 0:\n",
    "            return factorial(n - 1, acc*n)\n",
    "    else:\n",
    "        raise TypeError(\"the argument to factorial must be an integer >= 0\")\n",
    "        "
   ]
  },
  {
   "cell_type": "code",
   "execution_count": 25,
   "metadata": {},
   "outputs": [
    {
     "name": "stdout",
     "output_type": "stream",
     "text": [
      "1\n",
      "6\n",
      "30\n",
      "120\n",
      "360\n",
      "720\n",
      "720\n",
      "720\n"
     ]
    }
   ],
   "source": [
    "6 |> factorial |> print"
   ]
  },
  {
   "cell_type": "code",
   "execution_count": 26,
   "metadata": {},
   "outputs": [],
   "source": [
    "def factorial(n):\n",
    "    \"\"\"Compute n! where n is an integer\"\"\"\n",
    "    case n:\n",
    "        match 0:\n",
    "            return 1\n",
    "        match _ is int if n > 0:\n",
    "            return range(1, n+1) |> reduce$(*)\n",
    "    else:\n",
    "        raise TypeError(\"the argument to factorial should be >= 0\")\n",
    "        "
   ]
  },
  {
   "cell_type": "code",
   "execution_count": 27,
   "metadata": {},
   "outputs": [
    {
     "name": "stdout",
     "output_type": "stream",
     "text": [
      "24\n"
     ]
    }
   ],
   "source": [
    "4 |> factorial |> print"
   ]
  },
  {
   "cell_type": "raw",
   "metadata": {},
   "source": [
    "return range(1, n+1) |> reduce$(*)"
   ]
  },
  {
   "cell_type": "markdown",
   "metadata": {},
   "source": [
    "Let's break down what's happening on this line. First, the range function constructs an iterator of all the numbers that need to be multiplied together. Then, it is piped into the function reduce$(\\*), which does that multiplication. But how? What is reduce\\$(*)?\n",
    "\n",
    "\n",
    "We'll start with the base, the reduce function. reduce used to exist as a built-in in Python 2, and Coconut brings it back. reduce is a higher-order function that takes a function of two arguments as its first argument, and an iterator as its second argument, and applies that function to the given iterator by starting with the first element, and calling the function on the accumulated call so far and the next element, until the iterator is exhausted. Here's a visual representation:"
   ]
  },
  {
   "cell_type": "raw",
   "metadata": {},
   "source": [
    "reduce(f, (a, b, c, d))\n",
    "\n",
    "acc                 iter\n",
    "                    (a, b, c, d)\n",
    "a                   (b, c, d)\n",
    "f(a, b)             (c, d)\n",
    "f(f(a, b), c)       (d)\n",
    "f(f(f(a, b), c), d)\n",
    "\n",
    "return acc"
   ]
  },
  {
   "cell_type": "markdown",
   "metadata": {},
   "source": [
    "Now let's take a look at what we do to ``reduce`` to make it multiply all the numbers we feed into it together. The Coconut code that we saw for that was ``reduce$(*)``. There are two different Coconut constructs being used here: the operator function for multiplication in the form of ``(*)``, and partial application in the form of ``$``.\n",
    "\n",
    "First, the operator function. In Coconut, a function form of any operator can be retrieved by surrounding that operator in parentheses. In this case, ``(*)`` is roughly equivalent to ``lambda x, y: x*y``, but much cleaner and neater. In Coconut's lambda syntax, ``(*)`` is also equivalent to ``(x, y) -> x*y``, which we will use from now on for all lambdas, even though both are legal Coconut, because Python's lambda statement is too ugly and bulky to use regularly.\n",
    "Note: If Coconut's ``--strict`` mode is enabled, which will force your code to obey certain cleanliness standards, it will raise an error whenever Python lambda statements are used.\n",
    "Second, the partial application. Think of partial application as lazy function calling, and ``$`` as the lazy-ify operator, where lazy just means \"don't evaluate this until you need to.\" In Coconut, if a function call is prefixed by a ``$``, like in this example, instead of actually performing the function call, a new function is returned with the given arguments already provided to it, so that when it is then called, it will be called with both the partially-applied arguments and the new arguments, in that order. In this case, ``reduce$(*)`` is roughly equivalent to ``(*args, **kwargs) -> reduce((*), *args, **kwargs)``.\n",
    "Putting it all together, we can see how the single line of code"
   ]
  },
  {
   "cell_type": "markdown",
   "metadata": {},
   "source": [
    "This link is very useful in understanding what ``(*args, **kwargs)`` is\n",
    "\n",
    "https://stackoverflow.com/questions/36901/what-does-double-star-asterisk-and-star-asterisk-do-for-parameters"
   ]
  },
  {
   "cell_type": "markdown",
   "metadata": {},
   "source": [
    "### Addpattern in Coconut"
   ]
  },
  {
   "cell_type": "code",
   "execution_count": 29,
   "metadata": {},
   "outputs": [],
   "source": [
    "def factorial(0) = 1\n",
    "\n",
    "@addpattern(factorial)\n",
    "def factorial(n is int if n > 0) =\n",
    "    \"\"\"Compute n! where n is an integer >= 0.\"\"\"\n",
    "    range(1, n+1) |> reduce$(*)"
   ]
  },
  {
   "cell_type": "code",
   "execution_count": 30,
   "metadata": {},
   "outputs": [
    {
     "name": "stdout",
     "output_type": "stream",
     "text": [
      "6\n"
     ]
    }
   ],
   "source": [
    "3 |> factorial |> print"
   ]
  },
  {
   "cell_type": "code",
   "execution_count": null,
   "metadata": {},
   "outputs": [],
   "source": []
  }
 ],
 "metadata": {
  "kernelspec": {
   "display_name": "Coconut (Python 3)",
   "language": "coconut",
   "name": "coconut3"
  },
  "language_info": {
   "codemirror_mode": {
    "name": "python",
    "version": 3.6
   },
   "file_extension": ".coco",
   "mimetype": "text/x-python3",
   "name": "coconut",
   "pygments_lexer": "coconut"
  }
 },
 "nbformat": 4,
 "nbformat_minor": 2
}
